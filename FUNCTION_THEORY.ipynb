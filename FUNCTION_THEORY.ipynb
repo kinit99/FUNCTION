{
  "nbformat": 4,
  "nbformat_minor": 0,
  "metadata": {
    "colab": {
      "provenance": []
    },
    "kernelspec": {
      "name": "python3",
      "display_name": "Python 3"
    },
    "language_info": {
      "name": "python"
    }
  },
  "cells": [
    {
      "cell_type": "markdown",
      "source": [
        "**QUES_01** What is the difference between a function and a method in Python?"
      ],
      "metadata": {
        "id": "U0z8SHUzuj8L"
      }
    },
    {
      "cell_type": "markdown",
      "source": [
        "**ANS_**In Python, the terms \"function\" and \"method\" are related but have distinct meanings:\n",
        "\n",
        "Function\n",
        "\n",
        "Definition: A function is a block of reusable code that performs a specific task.\n",
        "\n",
        "Declaration: Defined using the def keyword.\n",
        "\n",
        "Usage: Can be called independently and is not associated with any object.\n",
        "\n",
        "Example:\n"
      ],
      "metadata": {
        "id": "Dyhg2IYduqpV"
      }
    },
    {
      "cell_type": "code",
      "source": [
        "def my_function(param):\n",
        "    return param * 2\n",
        "\n",
        "result = my_function(5)\n"
      ],
      "metadata": {
        "id": "K_rEv1K-u5kp"
      },
      "execution_count": null,
      "outputs": []
    },
    {
      "cell_type": "markdown",
      "source": [
        "Method\n",
        "\n",
        "Definition: A method is a function that is associated with an object. In other words, a method is a function that is defined within a class and operates on\n",
        "\n",
        "instances of that class.\n",
        "\n",
        "Declaration: Defined within a class using the def keyword. It has access to the instance it is called on (through the self parameter).\n",
        "\n",
        "Usage: Called on an instance of the class it belongs to.\n",
        "\n",
        "Example:\n"
      ],
      "metadata": {
        "id": "OLSohYxIu-xL"
      }
    },
    {
      "cell_type": "code",
      "source": [
        "class MyClass:\n",
        "    def my_method(self, param):\n",
        "        return param * 2\n",
        "\n",
        "obj = MyClass()\n",
        "result = obj.my_method(5)"
      ],
      "metadata": {
        "id": "v4O-l-4ovSjT"
      },
      "execution_count": null,
      "outputs": []
    },
    {
      "cell_type": "markdown",
      "source": [
        "Key Differences\n",
        "\n",
        "Association:\n",
        "\n",
        "Functions are independent and not tied to any object.\n",
        "Methods are tied to the objects (instances) of a class.\n",
        "\n",
        "Calling:\n",
        "\n",
        "Functions are called directly by their name.\n",
        "Methods are called on an object (instance) using the dot notation.\n",
        "\n",
        "Parameter:\n",
        "\n",
        "Functions take parameters as defined in their signature.\n",
        "\n",
        "Methods always take at least one parameter (self), which refers to the instance calling the method.\n",
        "\n",
        "\n",
        "\n",
        "\n",
        "\n"
      ],
      "metadata": {
        "id": "7Ojr3ba5vdVX"
      }
    },
    {
      "cell_type": "markdown",
      "source": [
        "**QUES_02**Explain the concept of function arguments and parameters in Python."
      ],
      "metadata": {
        "id": "-HVzWI6MvpAp"
      }
    },
    {
      "cell_type": "markdown",
      "source": [
        "**ANS_**In Python, the terms \"arguments\" and \"parameters\" are often used interchangeably, but they have distinct meanings in the context of functions.\n",
        "\n",
        "Parameters\n",
        "\n",
        "Definition: Parameters are the variables listed inside the parentheses in the function definition.\n",
        "\n",
        "Purpose: They act as placeholders for the values that will be passed into the function.\n",
        "\n",
        "Example:"
      ],
      "metadata": {
        "id": "JdnVM88ov5Jn"
      }
    },
    {
      "cell_type": "code",
      "source": [
        "def my_function(param1, param2):\n",
        "    return param1 + param2\n"
      ],
      "metadata": {
        "id": "OT1ju30ZwDV1"
      },
      "execution_count": null,
      "outputs": []
    },
    {
      "cell_type": "markdown",
      "source": [
        "Here, param1 and param2 are parameters.\n",
        "\n",
        "Arguments\n",
        "\n",
        "Definition: Arguments are the actual values that are passed to the function when it is called.\n",
        "\n",
        "Purpose: They provide the actual data that the function uses to perform its operation.\n",
        "\n",
        "Example:\n"
      ],
      "metadata": {
        "id": "MWHjSZFgwHkI"
      }
    },
    {
      "cell_type": "code",
      "source": [
        "result = my_function(3, 5)\n"
      ],
      "metadata": {
        "id": "Ip19Z_kOwSl4"
      },
      "execution_count": null,
      "outputs": []
    },
    {
      "cell_type": "markdown",
      "source": [
        "Here, 3 and 5 are arguments.\n",
        "\n",
        "Types of Function Parameters\n",
        "\n",
        "Positional Parameters:\n",
        "\n",
        "Parameters that need to be passed in a specific order.\n",
        "\n",
        "Example:\n"
      ],
      "metadata": {
        "id": "s9Pu60TLwWyF"
      }
    },
    {
      "cell_type": "code",
      "source": [
        "def my_function(a, b):\n",
        "    return a + b\n",
        "\n",
        "result = my_function(2, 3)  # 2 and 3 are positional arguments\n"
      ],
      "metadata": {
        "id": "PSLkR2pVwfjS"
      },
      "execution_count": null,
      "outputs": []
    },
    {
      "cell_type": "markdown",
      "source": [
        "Keyword Parameters:\n",
        "\n",
        "Parameters that are passed by explicitly stating the parameter name.\n",
        "\n",
        "Example:\n"
      ],
      "metadata": {
        "id": "OKWwv4E7wmX2"
      }
    },
    {
      "cell_type": "code",
      "source": [
        "def my_function(a, b):\n",
        "    return a + b\n",
        "\n",
        "result = my_function(a=2, b=3)  # a and b are keyword arguments\n"
      ],
      "metadata": {
        "id": "xTVfhRFXwtQF"
      },
      "execution_count": null,
      "outputs": []
    },
    {
      "cell_type": "markdown",
      "source": [
        "Default Parameters:\n",
        "\n",
        "Parameters that have default values, which are used if no argument is passed for them.\n",
        "\n",
        "Example:"
      ],
      "metadata": {
        "id": "Udct-AMpxKpB"
      }
    },
    {
      "cell_type": "code",
      "source": [
        "def my_function(a, b=5):\n",
        "    return a + b\n",
        "\n",
        "result1 = my_function(2)       # result is 7 (b defaults to 5)\n",
        "result2 = my_function(2, 3)    # result is 5 (b is provided as 3)\n"
      ],
      "metadata": {
        "id": "iDemtJCMxNdC"
      },
      "execution_count": null,
      "outputs": []
    },
    {
      "cell_type": "markdown",
      "source": [
        "Variable-length Parameters:\n",
        "\n",
        "Parameters that allow for passing an arbitrary number of arguments.\n",
        "\n",
        "Two types:\n",
        "\n",
        "*args: For non-keyword arguments.\n",
        "\n",
        "Example:\n"
      ],
      "metadata": {
        "id": "jcUBN7JTxTy-"
      }
    },
    {
      "cell_type": "code",
      "source": [
        "def my_function(*args):\n",
        "    return sum(args)\n",
        "\n",
        "result = my_function(1, 2, 3)  # result is 6\n"
      ],
      "metadata": {
        "id": "LyyDdl7Ixdbm"
      },
      "execution_count": null,
      "outputs": []
    },
    {
      "cell_type": "markdown",
      "source": [
        "Summary\n",
        "\n",
        "Parameters: Defined in the function signature and act as placeholders.\n",
        "\n",
        "Arguments: Actual values provided to the function when it is called.\n",
        "\n",
        "Positional Parameters: Order matters.\n",
        "\n",
        "Keyword Parameters: Order does not matter; arguments are matched by name.\n",
        "\n",
        "Default Parameters: Have default values.\n",
        "\n",
        "Variable-length Parameters: Allow for an arbitrary number of arguments (*args and **kwargs)."
      ],
      "metadata": {
        "id": "Ntp1pJhvxlHn"
      }
    },
    {
      "cell_type": "markdown",
      "source": [
        "**QUES_03** What are the different ways to define and call a function in Python?"
      ],
      "metadata": {
        "id": "0LNBc4-ExsEU"
      }
    },
    {
      "cell_type": "markdown",
      "source": [
        "In Python, functions can be defined and called in various ways, each serving different purposes and use cases. Here are the different ways to define and\n",
        "\n",
        "call functions:\n",
        "\n",
        "1. Regular Function Definition\n",
        "\n",
        "Definition: Using the def keyword.\n",
        "\n",
        "Calling: By the function name followed by parentheses.\n",
        "\n",
        "Example:"
      ],
      "metadata": {
        "id": "OgFZ5bqnx8Eo"
      }
    },
    {
      "cell_type": "code",
      "source": [
        "def greet(name):\n",
        "    return f\"Hello, {name}!\"\n",
        "\n",
        "result = greet(\"Alice\")  # result is \"Hello, Alice!\"\n"
      ],
      "metadata": {
        "id": "zhBMUhLByF9C"
      },
      "execution_count": null,
      "outputs": []
    },
    {
      "cell_type": "markdown",
      "source": [
        "2. Function with Default Arguments\n",
        "\n",
        "Definition: Providing default values for parameters.\n",
        "\n",
        "Calling: Can omit arguments that have default values.\n",
        "\n",
        "Example:"
      ],
      "metadata": {
        "id": "ZXMQdTNFyLuA"
      }
    },
    {
      "cell_type": "code",
      "source": [
        "def greet(name=\"Guest\"):\n",
        "    return f\"Hello, {name}!\"\n",
        "\n",
        "result1 = greet()          # result is \"Hello, Guest!\"\n",
        "result2 = greet(\"Bob\")     # result is \"Hello, Bob!\"\n"
      ],
      "metadata": {
        "id": "aefpo_AtyVl9"
      },
      "execution_count": null,
      "outputs": []
    },
    {
      "cell_type": "markdown",
      "source": [
        "3. Lambda Functions\n",
        "\n",
        "Definition: Using the lambda keyword for creating small anonymous functions.\n",
        "\n",
        "Calling: Immediately or by assigning to a variable.\n",
        "\n",
        "Example:"
      ],
      "metadata": {
        "id": "Ofk2cI_CyZtJ"
      }
    },
    {
      "cell_type": "code",
      "source": [
        "square = lambda x: x * 2\n",
        "result = square(5)\n",
        "\n",
        "# Direct call\n",
        "result = (lambda x: x * 2)(5)\n"
      ],
      "metadata": {
        "id": "zyqy4cPfyiW4"
      },
      "execution_count": null,
      "outputs": []
    },
    {
      "cell_type": "markdown",
      "source": [
        "4. Functions with Variable-length Arguments\n",
        "\n",
        "Definition: Using *args for positional and **kwargs for keyword arguments.\n",
        "\n",
        "Calling: With an arbitrary number of arguments.\n",
        "\n",
        "Example:"
      ],
      "metadata": {
        "id": "uqivmEXXyo72"
      }
    },
    {
      "cell_type": "code",
      "source": [
        "def sum_all(*args):\n",
        "    return sum(args)\n",
        "\n",
        "result = sum_all(1, 2, 3, 4)\n",
        "\n",
        "def print_details(**kwargs):\n",
        "    for key, value in kwargs.items():\n",
        "        print(f\"{key}: {value}\")\n",
        "\n",
        "print_details(name=\"Alice\", age=30)\n"
      ],
      "metadata": {
        "colab": {
          "base_uri": "https://localhost:8080/"
        },
        "id": "QLH0TTNSyv9-",
        "outputId": "fe51a8a5-7b90-448f-c5e7-d78d762c117a"
      },
      "execution_count": null,
      "outputs": [
        {
          "output_type": "stream",
          "name": "stdout",
          "text": [
            "name: Alice\n",
            "age: 30\n"
          ]
        }
      ]
    },
    {
      "cell_type": "markdown",
      "source": [
        "5. Nested Functions\n",
        "\n",
        "Definition: Defining a function inside another function.\n",
        "\n",
        "Calling: By calling the outer function, which in turn may call the inner\n",
        "function.\n",
        "\n",
        "Example:"
      ],
      "metadata": {
        "id": "2RH6c2BPy2dW"
      }
    },
    {
      "cell_type": "code",
      "source": [
        "def outer_function(text):\n",
        "    def inner_function():\n",
        "        return text.upper()\n",
        "    return inner_function()\n",
        "\n",
        "result = outer_function(\"hello\")\n"
      ],
      "metadata": {
        "id": "ut3Eu_N6y_2D"
      },
      "execution_count": null,
      "outputs": []
    },
    {
      "cell_type": "markdown",
      "source": [
        "6. Functions as Arguments\n",
        "\n",
        "Definition: Passing functions as arguments to other functions.\n",
        "\n",
        "Calling: By calling the function and passing another function as an argument.\n",
        "\n",
        "Example:"
      ],
      "metadata": {
        "id": "BlfHsYn-zF0b"
      }
    },
    {
      "cell_type": "code",
      "source": [
        "def add(a, b):\n",
        "    return a + b\n",
        "\n",
        "def operate(func, a, b):\n",
        "    return func(a, b)\n",
        "\n",
        "result = operate(add, 3, 4)\n"
      ],
      "metadata": {
        "id": "BnyzGVP61nBB"
      },
      "execution_count": null,
      "outputs": []
    },
    {
      "cell_type": "markdown",
      "source": [
        "7. Returning Functions from Functions\n",
        "\n",
        "Definition: Returning a function from another function.\n",
        "\n",
        "Calling: By calling the outer function and then the returned function.\n",
        "\n",
        "Example:"
      ],
      "metadata": {
        "id": "8sR7Zjtl1vZR"
      }
    },
    {
      "cell_type": "code",
      "source": [
        "def outer_function(x):\n",
        "    def inner_function(y):\n",
        "        return x + y\n",
        "    return inner_function\n",
        "\n",
        "add_five = outer_function(5)\n",
        "result = add_five(3)\n"
      ],
      "metadata": {
        "id": "lcDxA_4X11uq"
      },
      "execution_count": null,
      "outputs": []
    },
    {
      "cell_type": "markdown",
      "source": [
        "8. Using Function Decorators\n",
        "\n",
        "Definition: Using the @decorator_name syntax to modify the behavior of a function.\n",
        "\n",
        "Calling: By calling the decorated function as usual.\n",
        "\n",
        "Example:"
      ],
      "metadata": {
        "id": "PLd66vvC17if"
      }
    },
    {
      "cell_type": "code",
      "source": [
        "def my_decorator(func):\n",
        "    def wrapper():\n",
        "        print(\"Something is happening before the function is called.\")\n",
        "        func()\n",
        "        print(\"Something is happening after the function is called.\")\n",
        "    return wrapper\n",
        "\n",
        "@my_decorator\n",
        "def say_hello():\n",
        "    print(\"Hello!\")\n",
        "\n",
        "say_hello()\n",
        "# Output:\n",
        "# Something is happening before the function is called.\n",
        "# Hello!\n",
        "# Something is happening after the function is called.\n"
      ],
      "metadata": {
        "colab": {
          "base_uri": "https://localhost:8080/"
        },
        "id": "AGIMoln22D2V",
        "outputId": "b78d3306-7c64-436a-ca35-f9138b1eb141"
      },
      "execution_count": null,
      "outputs": [
        {
          "output_type": "stream",
          "name": "stdout",
          "text": [
            "Something is happening before the function is called.\n",
            "Hello!\n",
            "Something is happening after the function is called.\n"
          ]
        }
      ]
    },
    {
      "cell_type": "markdown",
      "source": [
        "**QUES_04**What is the purpose of the return statement in a Python function?"
      ],
      "metadata": {
        "id": "TzA-ptGA2NT7"
      }
    },
    {
      "cell_type": "markdown",
      "source": [
        "**ANS_**The return statement in a Python function serves several important purposes:\n",
        "\n",
        "1. Returning a Value\n",
        "\n",
        "Purpose: To send a value back to the caller of the function. This allows the function to produce a result that can be used elsewhere in the program.\n",
        "Example:\n"
      ],
      "metadata": {
        "id": "CQ_0eTIT2jS6"
      }
    },
    {
      "cell_type": "code",
      "source": [
        "def add(a, b):\n",
        "    return a + b\n",
        "\n",
        "result = add(3, 5)\n"
      ],
      "metadata": {
        "id": "QssJDt832s6u"
      },
      "execution_count": null,
      "outputs": []
    },
    {
      "cell_type": "markdown",
      "source": [
        "2. Exiting the Function\n",
        "\n",
        "Purpose: To exit the function immediately, even if there are remaining statements in the function body. Once the return statement is executed, the function terminates, and control is returned to the caller.\n",
        "\n",
        "Example:\n"
      ],
      "metadata": {
        "id": "qnuqv0Bt2xWn"
      }
    },
    {
      "cell_type": "code",
      "source": [
        "def check_even(number):\n",
        "    if number % 2 == 0:\n",
        "        return True\n",
        "    return False\n",
        "\n",
        "is_even = check_even(4)\n"
      ],
      "metadata": {
        "id": "Dih7ewW925Kl"
      },
      "execution_count": null,
      "outputs": []
    },
    {
      "cell_type": "markdown",
      "source": [
        "3. Returning Multiple Values\n",
        "\n",
        "Purpose: To return multiple values as a tuple. This allows functions to provide more complex outputs without requiring a custom data structure.\n",
        "\n",
        "Example:\n"
      ],
      "metadata": {
        "id": "_sjpzyWO2-gt"
      }
    },
    {
      "cell_type": "code",
      "source": [
        "def get_coordinates():\n",
        "    x = 10\n",
        "    y = 20\n",
        "    return x, y\n",
        "\n",
        "coords = get_coordinates()  # coords is (10, 20)\n"
      ],
      "metadata": {
        "id": "PzVX7IKI3I09"
      },
      "execution_count": null,
      "outputs": []
    },
    {
      "cell_type": "markdown",
      "source": [
        "4. Returning None\n",
        "\n",
        "Purpose: If no value is specified after the return keyword, or if the return statement is omitted, the function returns None by default.\n",
        "\n",
        "Example:"
      ],
      "metadata": {
        "id": "QmkyN7zf3MkX"
      }
    },
    {
      "cell_type": "code",
      "source": [
        "def greet(name):\n",
        "    print(f\"Hello, {name}!\")\n",
        "\n",
        "result = greet(\"Alice\")\n"
      ],
      "metadata": {
        "colab": {
          "base_uri": "https://localhost:8080/"
        },
        "id": "zjH1_cFX3R4_",
        "outputId": "fd4d54a8-1ca2-4b08-9555-ed4d86fd507b"
      },
      "execution_count": null,
      "outputs": [
        {
          "output_type": "stream",
          "name": "stdout",
          "text": [
            "Hello, Alice!\n"
          ]
        }
      ]
    },
    {
      "cell_type": "markdown",
      "source": [
        "**QUES_05**What are iterators in Python and how do they differ from iterables?"
      ],
      "metadata": {
        "id": "dDN3VUPr3ZXJ"
      }
    },
    {
      "cell_type": "markdown",
      "source": [
        "In Python, iterators and iterables are closely related but have distinct roles in the context of iteration. Understanding the difference between them is key to effectively using loops and comprehensions.\n",
        "\n",
        "\n",
        "Iterables\n",
        "\n",
        "Definition: An iterable is any Python object capable of returning its members one at a time. Examples include lists, tuples, strings, dictionaries, and sets.\n",
        "\n",
        "Protocol: An object is considered iterable if it implements the __iter__() method, which returns an iterator.\n",
        "\n",
        "Examples:\n"
      ],
      "metadata": {
        "id": "HRkHUZi-31VA"
      }
    },
    {
      "cell_type": "code",
      "source": [
        "my_list = [1, 2, 3]  # List is an iterable\n",
        "my_string = \"hello\"  # String is an iterable\n"
      ],
      "metadata": {
        "id": "n51X8-4p3-Ce"
      },
      "execution_count": null,
      "outputs": []
    },
    {
      "cell_type": "markdown",
      "source": [
        "Iterators\n",
        "\n",
        "Definition: An iterator is an object representing a stream of data. It can be iterated (stepped through) using the next() function until it raises a StopIteration exception.\n",
        "\n",
        "Protocol: An object is an iterator if it implements both the __iter__() and __next__() methods. The __iter__() method returns the iterator object itself, and the __next__() method returns the next item from the sequence.\n",
        "\n",
        "Examples"
      ],
      "metadata": {
        "id": "ksRBaVvc4CVm"
      }
    },
    {
      "cell_type": "code",
      "source": [
        "my_list = [1, 2, 3]\n",
        "my_iterator = iter(my_list)  # Obtain an iterator from an iterable\n",
        "\n",
        "print(next(my_iterator))  # Output: 1\n",
        "print(next(my_iterator))  # Output: 2\n",
        "print(next(my_iterator))  # Output: 3\n",
        "# next(my_iterator) would raise StopIteration here\n"
      ],
      "metadata": {
        "colab": {
          "base_uri": "https://localhost:8080/"
        },
        "id": "636aXE1P4LW4",
        "outputId": "ef49ba13-9678-47e8-faab-e6815dcb7f52"
      },
      "execution_count": null,
      "outputs": [
        {
          "output_type": "stream",
          "name": "stdout",
          "text": [
            "1\n",
            "2\n",
            "3\n"
          ]
        }
      ]
    },
    {
      "cell_type": "markdown",
      "source": [
        "Key Differences\n",
        "\n",
        "Definition:\n",
        "\n",
        "Iterable: An object capable of returning its members one at a time.\n",
        "\n",
        "Iterator: An object representing a stream of data, which can be traversed.\n",
        "\n",
        "Methods:\n",
        "\n",
        "Iterable: Must implement __iter__() method.\n",
        "\n",
        "Iterator: Must implement both __iter__() and __next__() methods.\n",
        "\n",
        "Usage:\n",
        "\n",
        "Iterable: Used in for loops and other places where iteration is needed"
      ],
      "metadata": {
        "id": "f_MasKoh4Pek"
      }
    },
    {
      "cell_type": "code",
      "source": [
        "for item in my_list:\n",
        "    print(item)\n"
      ],
      "metadata": {
        "colab": {
          "base_uri": "https://localhost:8080/"
        },
        "id": "whpw0SeP4ZTe",
        "outputId": "d58b255d-49c6-440b-ab22-9d1d7b2ca46b"
      },
      "execution_count": null,
      "outputs": [
        {
          "output_type": "stream",
          "name": "stdout",
          "text": [
            "1\n",
            "2\n",
            "3\n"
          ]
        }
      ]
    },
    {
      "cell_type": "markdown",
      "source": [
        "Iterator: Typically obtained from an iterable using the iter() function and traversed using next()"
      ],
      "metadata": {
        "id": "c-uQCbtq4gwe"
      }
    },
    {
      "cell_type": "code",
      "source": [
        "my_iterator = iter(my_list)\n",
        "while True:\n",
        "    try:\n",
        "        item = next(my_iterator)\n",
        "        print(item)\n",
        "    except StopIteration:\n",
        "        break\n"
      ],
      "metadata": {
        "colab": {
          "base_uri": "https://localhost:8080/"
        },
        "id": "HeTRSZ4-4jev",
        "outputId": "dbeac2b0-7d16-4b8b-c39d-e39393071f0c"
      },
      "execution_count": null,
      "outputs": [
        {
          "output_type": "stream",
          "name": "stdout",
          "text": [
            "1\n",
            "2\n",
            "3\n"
          ]
        }
      ]
    },
    {
      "cell_type": "code",
      "source": [
        "#Practical Example\n",
        "#Here’s an example demonstrating how iterables and iterators work together:\n",
        "# Define an iterable (a list)\n",
        "my_list = [1, 2, 3]\n",
        "\n",
        "# Obtain an iterator from the iterable\n",
        "my_iterator = iter(my_list)\n",
        "\n",
        "# Iterate through the iterator\n",
        "print(next(my_iterator))\n",
        "print(next(my_iterator))\n",
        "print(next(my_iterator))"
      ],
      "metadata": {
        "colab": {
          "base_uri": "https://localhost:8080/"
        },
        "id": "z8hYq5pE4s42",
        "outputId": "761cc485-1d54-4282-8e2f-583e26e4ba09"
      },
      "execution_count": null,
      "outputs": [
        {
          "output_type": "stream",
          "name": "stdout",
          "text": [
            "1\n",
            "2\n",
            "3\n"
          ]
        }
      ]
    },
    {
      "cell_type": "code",
      "source": [
        "#Creating Custom Iterators\n",
        "#You can create your own iterator by defining a class that implements the __iter__() and __next__() methods.\n",
        "class MyIterator:\n",
        "    def __init__(self, start, end):\n",
        "        self.current = start\n",
        "        self.end = end\n",
        "\n",
        "    def __iter__(self):\n",
        "        return self\n",
        "\n",
        "    def __next__(self):\n",
        "        if self.current >= self.end:\n",
        "            raise StopIteration\n",
        "        else:\n",
        "            self.current += 1\n",
        "            return self.current - 1\n",
        "\n",
        "# Create an instance of the custom iterator\n",
        "my_iter = MyIterator(1, 5)\n",
        "\n",
        "# Use the custom iterator\n",
        "for num in my_iter:\n",
        "    print(num)"
      ],
      "metadata": {
        "colab": {
          "base_uri": "https://localhost:8080/"
        },
        "id": "g99a7B2v4161",
        "outputId": "9ddd60d7-f8f0-403b-c9d7-b58e8b172976"
      },
      "execution_count": null,
      "outputs": [
        {
          "output_type": "stream",
          "name": "stdout",
          "text": [
            "1\n",
            "2\n",
            "3\n",
            "4\n"
          ]
        }
      ]
    },
    {
      "cell_type": "markdown",
      "source": [
        "Summary\n",
        "\n",
        "Iterable: An object that can return an iterator, typically used in for loops.\n",
        "\n",
        "Iterator: An object that represents a stream of data, obtained from an iterable and traversed using next()."
      ],
      "metadata": {
        "id": "GcSBfkr_5CfS"
      }
    },
    {
      "cell_type": "markdown",
      "source": [
        "**QUES_06** Explain the concept of generators in Python and how they are defined."
      ],
      "metadata": {
        "id": "rtYD_ePC5FtW"
      }
    },
    {
      "cell_type": "markdown",
      "source": [
        "Generators in Python are a special type of iterable, similar to iterators, that allow you to iterate over a sequence of values. They are defined using functions and the yield statement. Generators are particularly useful for creating iterators in a more concise and readable way, especially when dealing with large datasets or streams of data where you want to generate values on the fly without storing them all in memory.\n",
        "\n",
        "Key Concepts of Generators\n",
        "\n",
        "Generator Function: Defined like a regular function but uses the yield statement to return values one at a time.\n",
        "State Retention: The generator function retains its state between successive calls, allowing it to produce a series of values over time.\n",
        "\n",
        "Lazy Evaluation: Values are generated on-the-fly, which means they are computed only when needed and not stored in memory.\n",
        "\n",
        "Defining a Generator\n",
        "\n",
        "A generator is defined using a function with one or more yield statements. Each call to the generator's __next__() method (or using next()) will resume the function from where it last left off (after the last yield statement) and run until it hits the next yield statement.\n",
        "\n",
        "Example:"
      ],
      "metadata": {
        "id": "b7wCxe4U51li"
      }
    },
    {
      "cell_type": "code",
      "source": [
        "def simple_generator():\n",
        "    yield 1\n",
        "    yield 2\n",
        "    yield 3\n",
        "\n",
        "# Create a generator object\n",
        "gen = simple_generator()\n",
        "\n",
        "# Iterate through the generator\n",
        "print(next(gen))  # Output: 1\n",
        "print(next(gen))  # Output: 2\n",
        "print(next(gen))  # Output: 3\n",
        "# next(gen) would raise StopIteration here\n"
      ],
      "metadata": {
        "colab": {
          "base_uri": "https://localhost:8080/"
        },
        "id": "0A6-mUdj6BHF",
        "outputId": "e7900ebe-1670-4ae6-c0b7-e26adedae06e"
      },
      "execution_count": null,
      "outputs": [
        {
          "output_type": "stream",
          "name": "stdout",
          "text": [
            "1\n",
            "2\n",
            "3\n"
          ]
        }
      ]
    },
    {
      "cell_type": "markdown",
      "source": [
        "Key Points of Generators\n",
        "\n",
        "Initialization: A generator function returns a generator object when called.\n",
        "\n",
        "Iteration: You can iterate over the generator object using next() or a for loop.\n",
        "\n",
        "Exhaustion: Once all values have been yielded, subsequent calls to next() will raise a StopIteration exception."
      ],
      "metadata": {
        "id": "zdXgahQp6Fqb"
      }
    },
    {
      "cell_type": "markdown",
      "source": [
        "Benefits of Generators\n",
        "\n",
        "Memory Efficiency: Generators do not store all values in memory; they generate values on-the-fly.\n",
        "\n",
        "Lazy Evaluation: Values are computed as needed, which can improve performance for large datasets.\n",
        "\n",
        "Readable Code: Generators provide a simple and readable way to write iterators.\n",
        "\n",
        "Summary\n",
        "\n",
        "Generators in Python provide an elegant way to create iterators using functions and the yield statement. They offer memory efficiency and lazy evaluation, making them ideal for working with large datasets or infinite sequences.\n",
        "\n",
        "Generator expressions provide a compact syntax for creating generators."
      ],
      "metadata": {
        "id": "UKjHHEPK6UHQ"
      }
    },
    {
      "cell_type": "markdown",
      "source": [
        "**QUES_07** What are the advantages of using generators over regular functions?"
      ],
      "metadata": {
        "id": "2FgGOCTo6dLm"
      }
    },
    {
      "cell_type": "markdown",
      "source": [
        "Generators offer several advantages over regular functions, especially in scenarios involving large data sets, complex iteration logic, or where performance and memory efficiency are critical. Here are the key advantages:\n",
        "\n",
        "1. Memory Efficiency\n",
        "\n",
        "Generators: Generate values on-the-fly and do not store them in memory. This is particularly useful when dealing with large data sets or infinite sequences.\n",
        "\n",
        "Regular Functions: Typically return all results at once, which can consume a significant amount of memory if the result set is large.\n",
        "\n",
        "Example:"
      ],
      "metadata": {
        "id": "YcvhX_3Q7C2p"
      }
    },
    {
      "cell_type": "code",
      "source": [
        "def generate_numbers(limit):\n",
        "    for i in range(limit):\n",
        "        yield i\n",
        "\n",
        "# Using a generator to handle a large range of numbers efficiently\n",
        "gen = generate_numbers(10**6)\n",
        "#2. Lazy Evaluation\n",
        "#Generators: Evaluate values lazily, meaning values are produced only when they are needed. This can lead to performance improvements by avoiding unnecessary computations.\n",
        "#Regular Functions: Evaluate all values at once and return the entire result set immediately.\n",
        "#Example:\n",
        "def lazy_range(start, end):\n",
        "    current = start\n",
        "    while current < end:\n",
        "        yield current\n",
        "        current += 1\n",
        "\n",
        "# Using the generator to get values only when needed\n",
        "for number in lazy_range(1, 5):\n",
        "    print(number)  # Output: 1 2 3 4\n",
        "#3. Improved Performance\n",
        "#Generators: Can lead to better performance in terms of both speed and memory usage because they produce items one at a time and only as needed.\n",
        "#Regular Functions: Can be slower and more memory-intensive when dealing with large data sets, as they create and store the entire result set in memory before returning it.\n",
        "#Example:\n",
        "def large_data_processing():\n",
        "    for i in range(10**6):\n",
        "        yield i * 2\n",
        "\n",
        "# Using the generator to process large data efficiently\n",
        "for data in large_data_processing():\n",
        "    pass  # Processing each item as it is generated\n",
        "#4. Simplified Code and State Retention\n",
        "#Generators: Retain their state between successive calls, allowing for simpler code when implementing complex iteration logic. This can make code easier to read and maintain.\n",
        "#Regular Functions: May require additional logic to maintain state across iterations, leading to more complex and harder-to-maintain code.\n",
        "#Example:\n",
        "def countdown(n):\n",
        "    while n > 0:\n",
        "        yield n\n",
        "        n -= 1\n",
        "\n",
        "# Using the generator to simplify state management\n",
        "for number in countdown(5):\n",
        "    print(number)  # Output: 5 4 3 2 1\n",
        "#5. Infinite Sequences\n",
        "#Generators: Ideal for representing infinite sequences, as they generate values on demand and can theoretically run indefinitely.\n",
        "#Regular Functions: Cannot handle infinite sequences because they attempt to create and return all values at once, leading to memory exhaustion.\n",
        "#Example:\n",
        "def infinite_sequence():\n",
        "    num = 0\n",
        "    while True:\n",
        "        yield num\n",
        "        num += 1\n",
        "\n",
        "# Using the generator to handle an infinite sequence\n",
        "inf_seq = infinite_sequence()\n",
        "for _ in range(5):\n",
        "    print(next(inf_seq))  # Output: 0 1 2 3 4\n",
        "#6. Pipeline of Operations\n",
        "#Generators: Can be easily chained together to form a pipeline of operations, allowing for complex data processing in a memory-efficient manner.\n",
        "#Regular Functions: May require intermediate storage of results between operations, leading to higher memory consumption.\n",
        "#Example:\n",
        "def integers():\n",
        "    i = 1\n",
        "    while True:\n",
        "        yield i\n",
        "        i += 1\n",
        "\n",
        "def squares(seq):\n",
        "    for i in seq:\n",
        "        yield i * i\n",
        "\n",
        "# Creating a pipeline of operations using generators\n",
        "squared_integers = squares(integers())\n",
        "for num in squared_integers:\n",
        "    if num > 100:\n",
        "        break\n",
        "    print(num)"
      ],
      "metadata": {
        "colab": {
          "base_uri": "https://localhost:8080/"
        },
        "id": "MxLcrzsF7Mx9",
        "outputId": "e090def8-d2d9-42d4-831e-8bdf3bfe52d0"
      },
      "execution_count": null,
      "outputs": [
        {
          "output_type": "stream",
          "name": "stdout",
          "text": [
            "1\n",
            "2\n",
            "3\n",
            "4\n",
            "5\n",
            "4\n",
            "3\n",
            "2\n",
            "1\n",
            "0\n",
            "1\n",
            "2\n",
            "3\n",
            "4\n",
            "1\n",
            "4\n",
            "9\n",
            "16\n",
            "25\n",
            "36\n",
            "49\n",
            "64\n",
            "81\n",
            "100\n"
          ]
        }
      ]
    },
    {
      "cell_type": "markdown",
      "source": [
        "Summary\n",
        "\n",
        "Generators offer significant advantages over regular functions in terms of memory efficiency, lazy evaluation, performance, simplified code, handling infinite sequences, and creating pipelines of operations. These benefits make generators a powerful tool for efficient and effective iteration in Python."
      ],
      "metadata": {
        "id": "hl2Pqve372QQ"
      }
    },
    {
      "cell_type": "markdown",
      "source": [
        "**QUES_08** What is a lambda function in Python and when is it typically used?"
      ],
      "metadata": {
        "id": "Ob5bg0j577j0"
      }
    },
    {
      "cell_type": "markdown",
      "source": [
        "A lambda function in Python, also known as an anonymous function, is a small, unnamed function defined using the lambda keyword. Lambda functions are typically used for short, simple operations that are often passed as arguments to higher-order functions, like those used in functional programming (e.g., map(), filter(), sorted(), etc.). They are limited to a single expression and return the value of that expression.\n",
        "\n",
        "Syntax\n",
        "\n",
        "The syntax for a lambda function is:"
      ],
      "metadata": {
        "id": "TvzMlgyO8LD6"
      }
    },
    {
      "cell_type": "code",
      "source": [
        "#lambda arguments: expression\n",
        "#lambda keyword is used to define the function.\n",
        "#arguments are the input parameters (optional).\n",
        "#expression is a single expression that is evaluated and returned.\n",
        "#Example\n",
        "#Here’s a basic example of a lambda function that adds two numbers:\n",
        "add = lambda x, y: x + y\n",
        "print(add(2, 3))  # Output: 5\n",
        "#Typical Use Cases\n",
        "#Short, Simple Functions: Lambda functions are ideal for small operations that do not require a full function definition.\n",
        "square = lambda x: x * x\n",
        "print(square(4))  # Output: 16\n",
        "#Higher-order Functions: Lambda functions are commonly used with functions like map(), filter(), and sorted().\n",
        "\n",
        "#map(): Applies a function to all items in an input list.\n",
        "numbers = [1, 2, 3, 4]\n",
        "squares = map(lambda x: x * x, numbers)\n",
        "print(list(squares))  # Output: [1, 4, 9, 16]\n",
        "\n",
        "#filter(): Filters a list based on a condition.\n",
        "numbers = [1, 2, 3, 4, 5, 6]\n",
        "evens = filter(lambda x: x % 2 == 0, numbers)\n",
        "print(list(evens))  # Output: [2, 4, 6]\n",
        "\n",
        "#sorted(): Sorts a list based on a key function.\n",
        "pairs = [(1, 2), (3, 1), (5, 0)]\n",
        "sorted_pairs = sorted(pairs, key=lambda x: x[1])\n",
        "print(sorted_pairs)  # Output: [(5, 0), (3, 1), (1, 2)]\n",
        "\n",
        "#Inline Function Definitions: Lambda functions can be used for defining simple inline functions where defining a full function might be overkill.\n",
        "def make_incrementor(n):\n",
        "    return lambda x: x + n\n",
        "\n",
        "inc = make_incrementor(2)\n",
        "print(inc(5))  # Output: 7\n",
        "\n",
        "#Data Structures: Lambda functions can be used for creating small, on-the-fly functions within data structures\n",
        "points = [(2, 3), (4, 1), (1, 2)]\n",
        "points.sort(key=lambda point: point[1])\n",
        "print(points)"
      ],
      "metadata": {
        "colab": {
          "base_uri": "https://localhost:8080/"
        },
        "id": "FwIl2BUX8gPk",
        "outputId": "d0a9486b-4466-468e-a4c0-0c7d3d30b2fa"
      },
      "execution_count": null,
      "outputs": [
        {
          "output_type": "stream",
          "name": "stdout",
          "text": [
            "5\n",
            "16\n",
            "[1, 4, 9, 16]\n",
            "[2, 4, 6]\n",
            "[(5, 0), (3, 1), (1, 2)]\n",
            "7\n",
            "[(4, 1), (1, 2), (2, 3)]\n"
          ]
        }
      ]
    },
    {
      "cell_type": "markdown",
      "source": [
        "Limitations\n",
        "\n",
        "Single Expression: Lambda functions are limited to a single expression. They cannot contain multiple statements or annotations.\n",
        "\n",
        "Readability: For more complex operations, using regular function definitions with def is preferred for readability and maintainability.\n",
        "\n",
        "No Statements: Lambda functions cannot include statements such as print, return, or assignment (=).\n",
        "\n",
        "Summary\n",
        "Lambda functions in Python provide a concise way to create small, anonymous functions for short-term use, particularly useful when passing functions as arguments to higher-order functions. Their simplicity and brevity make them a powerful tool for functional programming patterns and quick, inline operations, although they should be used judiciously to maintain code readability."
      ],
      "metadata": {
        "id": "T6CTsoC09J4z"
      }
    },
    {
      "cell_type": "markdown",
      "source": [
        "**QUES_09** Explain the purpose and usage of the map() function in Python."
      ],
      "metadata": {
        "id": "7Ox3DTHj9g84"
      }
    },
    {
      "cell_type": "markdown",
      "source": [
        "The map() function in Python is a built-in function that applies a specified function to each item in an iterable (such as a list or tuple) and returns a map object (an iterator) with the results. It is commonly used for transforming data by applying the same operation to each element in a sequence.\n",
        "\n",
        "Purpose\n",
        "\n",
        "The primary purpose of the map() function is to perform element-wise operations on an iterable, creating a new iterable where each element is the result of applying the given function to the corresponding element of the input iterable(s)."
      ],
      "metadata": {
        "id": "poEWCZkD-RS_"
      }
    },
    {
      "cell_type": "code",
      "source": [
        "#Syntax\n",
        "#map(function, iterable, ...)\n",
        "\n",
        "#function: The function to apply to each element of the iterable(s).\n",
        "#iterable, ...: One or more iterables. The function is applied to each element of the iterable(s).\n",
        "#Usage\n",
        "#Single Iterable\n",
        "\n",
        "#Applying a function to each element of a single iterable.\n",
        "#Example\n",
        "numbers = [1, 2, 3, 4]\n",
        "def square(x):\n",
        "    return x * x\n",
        "\n",
        "squared_numbers = map(square, numbers)\n",
        "print(list(squared_numbers))  # Output: [1, 4, 9, 16]\n",
        "\n",
        "#Multiple Iterables\n",
        "\n",
        "#Applying a function to corresponding elements of multiple iterables.\n",
        "#Example:\n",
        "numbers1 = [1, 2, 3]\n",
        "numbers2 = [4, 5, 6]\n",
        "\n",
        "def add(x, y):\n",
        "    return x + y\n",
        "\n",
        "summed_numbers = map(add, numbers1, numbers2)\n",
        "print(list(summed_numbers))  # Output: [5, 7, 9]\n",
        "\n",
        "#Using Lambda Functions\n",
        "\n",
        "#Using lambda functions to create simple, inline operations with map().\n",
        "#Example:\n",
        "numbers = [1, 2, 3, 4]\n",
        "squared_numbers = map(lambda x: x * x, numbers)\n",
        "print(list(squared_numbers))  # Output: [1, 4, 9, 16]\n",
        "\n",
        "#Converting the Map Object\n",
        "#The result of map() is a map object, which is an iterator. It can be converted to other data types such as lists or tuples to view the results.\n",
        "\n",
        "#Example:\n",
        "numbers = [1, 2, 3, 4]\n",
        "squared_numbers = map(lambda x: x * x, numbers)\n",
        "\n",
        "# Convert to list\n",
        "squared_list = list(squared_numbers)\n",
        "print(squared_list)  # Output: [1, 4, 9, 16]\n",
        "\n",
        "# Convert to tuple\n",
        "squared_tuple = tuple(map(lambda x: x * x, numbers))\n",
        "print(squared_tuple)  # Output: (1, 4, 9, 16)\n",
        "\n",
        "#Practical Applications\n",
        "#Data Transformation\n",
        "\n",
        "#Converting temperatures from Celsius to Fahrenheit.\n",
        "celsius = [0, 10, 20, 30]\n",
        "fahrenheit = map(lambda x: (x * 9/5) + 32, celsius)\n",
        "print(list(fahrenheit))  # Output: [32.0, 50.0, 68.0, 86.0]\n",
        "\n",
        "#String Operations\n",
        "\n",
        "#Converting a list of strings to uppercase.\n",
        "words = [\"hello\", \"world\", \"python\"]\n",
        "upper_words = map(lambda x: x.upper(), words)\n",
        "print(list(upper_words))  # Output: ['HELLO', 'WORLD', 'PYTHON']\n",
        "\n",
        "#Parallel Operations\n",
        "\n",
        "#Performing element-wise addition on two lists.\n",
        "list1 = [1, 2, 3]\n",
        "list2 = [4, 5, 6]\n",
        "added_lists = map(lambda x, y: x + y, list1, list2)\n",
        "print(list(added_lists))"
      ],
      "metadata": {
        "colab": {
          "base_uri": "https://localhost:8080/"
        },
        "id": "_dAM2ofr-X7o",
        "outputId": "3e3efe53-9c68-4ae0-edbc-c46a862f9f92"
      },
      "execution_count": null,
      "outputs": [
        {
          "output_type": "stream",
          "name": "stdout",
          "text": [
            "[1, 4, 9, 16]\n",
            "[5, 7, 9]\n",
            "[1, 4, 9, 16]\n",
            "[1, 4, 9, 16]\n",
            "(1, 4, 9, 16)\n",
            "[32.0, 50.0, 68.0, 86.0]\n",
            "['HELLO', 'WORLD', 'PYTHON']\n",
            "[5, 7, 9]\n"
          ]
        }
      ]
    },
    {
      "cell_type": "markdown",
      "source": [
        "Summary\n",
        "\n",
        "The map() function in Python is a powerful tool for applying a function to each item in one or more iterables. It is commonly used for transforming data and performing element-wise operations. The results are returned as a map object, which can be converted to other data types for further use. Its ability to work with lambda functions and multiple iterables makes it a versatile choice for functional programming tasks."
      ],
      "metadata": {
        "id": "V5RfkT84_KQu"
      }
    },
    {
      "cell_type": "markdown",
      "source": [
        "**QUES_10** What is the difference between map(), reduce(), and filter() functions in Python?"
      ],
      "metadata": {
        "id": "psM18VYH_ORl"
      }
    },
    {
      "cell_type": "markdown",
      "source": [
        "The map(), reduce(), and filter() functions in Python are all used for functional programming tasks, but they serve different purposes and operate in distinct ways. Here's a breakdown of each function and how they differ:\n",
        "\n",
        "map()\n",
        "\n",
        "Purpose: Applies a given function to each item in an iterable (or iterables) and returns a map object (an iterator) with the results.\n",
        "\n",
        "Use Case: When you need to transform each element of an iterable based on some function.\n",
        "\n",
        "Syntax"
      ],
      "metadata": {
        "id": "r6AaAkJs_awM"
      }
    },
    {
      "cell_type": "code",
      "source": [
        "#map(function, iterable, ...)\n",
        "#Example:\n",
        "numbers = [1, 2, 3, 4]\n",
        "squared = map(lambda x: x * x, numbers)\n",
        "print(list(squared))  # Output: [1, 4, 9, 16]\n",
        "\n",
        "#filter()\n",
        "\n",
        "#Purpose: Applies a given function to each item in an iterable and returns an iterator containing only those elements for which the function returns True.\n",
        "#Use Case: When you need to filter elements of an iterable based on a condition.\n",
        "#Syntax:\n",
        "#filter(function, iterable)\n",
        "#Example\n",
        "numbers = [1, 2, 3, 4, 5, 6]\n",
        "evens = filter(lambda x: x % 2 == 0, numbers)\n",
        "print(list(evens))  # Output: [2, 4, 6]\n",
        "\n",
        "#reduce()\n",
        "\n",
        "#Purpose: Applies a given function cumulatively to the items of an iterable, reducing the iterable to a single value.\n",
        "#Use Case: When you need to combine elements of an iterable into a single result (e.g., summing, multiplying).\n",
        "#Syntax:\n",
        "#from functools import reduce\n",
        "#reduce(function, iterable, [initializer])\n",
        "#initializer is an optional value that is used as the starting value in the reduction process.\n",
        "#Example:\n",
        "from functools import reduce\n",
        "\n",
        "numbers = [1, 2, 3, 4]\n",
        "sum_total = reduce(lambda x, y: x + y, numbers)\n",
        "print(sum_total)  # Output: 10\n",
        "\n",
        "#Key Differences\n",
        "#Function Application:\n",
        "\n",
        "#map(): Applies a function to each item in an iterable and returns an iterator of results.\n",
        "#filter(): Applies a function to each item in an iterable and returns an iterator with items for which the function returns True.\n",
        "#reduce(): Applies a function cumulatively to the items of an iterable to reduce it to a single result.\n",
        "#Return Value:\n",
        "\n",
        "#map(): Returns a map object (an iterator) with transformed values.\n",
        "#filter(): Returns a filter object (an iterator) with filtered values.\n",
        "#reduce(): Returns a single value, the result of the cumulative function application.\n",
        "#Use Cases:\n",
        "\n",
        "#map(): For transforming each element of an iterable.\n",
        "#filter(): For selecting elements based on a condition.\n",
        "#reduce(): For aggregating or combining elements into a single result.\n",
        "#Examples\n",
        "#Using map():\n",
        "# Double each number in the list\n",
        "numbers = [1, 2, 3, 4]\n",
        "doubled = map(lambda x: x * 2, numbers)\n",
        "print(list(doubled))  # Output: [2, 4, 6, 8]\n",
        "\n",
        "#Using filter():\n",
        "# Filter out numbers greater than 3\n",
        "numbers = [1, 2, 3, 4, 5]\n",
        "greater_than_three = filter(lambda x: x > 3, numbers)\n",
        "print(list(greater_than_three))  # Output: [4, 5]\n",
        "\n",
        "#Using reduce():\n",
        "from functools import reduce\n",
        "\n",
        "# Compute the product of all numbers\n",
        "numbers = [1, 2, 3, 4]\n",
        "product = reduce(lambda x, y: x * y, numbers)\n",
        "print(product)"
      ],
      "metadata": {
        "colab": {
          "base_uri": "https://localhost:8080/"
        },
        "id": "v8FkSYj2_hW_",
        "outputId": "7dcc195c-0129-4596-dba6-6b9e1a7b55c7"
      },
      "execution_count": null,
      "outputs": [
        {
          "output_type": "stream",
          "name": "stdout",
          "text": [
            "[1, 4, 9, 16]\n",
            "[2, 4, 6]\n",
            "10\n",
            "[2, 4, 6, 8]\n",
            "[4, 5]\n",
            "24\n"
          ]
        }
      ]
    },
    {
      "cell_type": "markdown",
      "source": [
        "Summary\n",
        "\n",
        "map() is used for transforming elements of an iterable.\n",
        "\n",
        "filter() is used for filtering elements based on a condition.\n",
        "\n",
        "reduce() is used for combining elements into a single cumulative result.\n",
        "\n",
        "\n",
        "\n",
        "\n",
        "\n"
      ],
      "metadata": {
        "id": "k4iQS0xyAV8f"
      }
    },
    {
      "cell_type": "markdown",
      "source": [
        "**QUES_11**  write the internal mechanism for sum operation using  reduce function on this given\n",
        "list:[47,11,42,13];"
      ],
      "metadata": {
        "id": "4OttbP0NjOSh"
      }
    },
    {
      "cell_type": "markdown",
      "source": [
        "Sure, let's break down the internal mechanism of the reduce() function to perform the sum operation on the list [47, 11, 42, 13].\n",
        "\n",
        "We'll walk through how reduce() works step by step:\n",
        "\n",
        "Step-by-Step Process\n",
        "\n",
        "Initialization:\n",
        "\n",
        "The reduce() function takes a function and an iterable (list) as arguments.\n",
        "It applies the given function cumulatively to the items of the iterable, from left to right, to reduce it to a single value.\n",
        "\n",
        "Function:\n",
        "\n",
        "For this example, we'll use the sum operation: lambda x, y: x + y.\n",
        "\n",
        "List:\n",
        "\n",
        "The list we are reducing is [47, 11, 42, 13].\n",
        "\n",
        "Internal Mechanism\n",
        "\n",
        "First Iteration:\n",
        "\n",
        "x = 47 (first element of the list)\n",
        "\n",
        "y = 11 (second element of the list)\n",
        "\n",
        "Apply the function: x + y → 47 + 11 = 58\n",
        "\n",
        "Intermediate result: 58\n",
        "\n",
        "Second Iteration:\n",
        "\n",
        "\n",
        "x = 58 (result of the first iteration)\n",
        "\n",
        "y = 42 (third element of the list)\n",
        "\n",
        "Apply the function: x + y → 58 + 42 = 100\n",
        "\n",
        "Intermediate result: 100\n",
        "\n",
        "Third Iteration:\n",
        "\n",
        "x = 100 (result of the second iteration)\n",
        "\n",
        "y = 13 (fourth element of the list)\n",
        "\n",
        "Apply the function: x + y → 100 + 13 = 113\n",
        "\n",
        "Intermediate result: 113\n",
        "\n",
        "Final Result\n",
        "\n",
        "The final result after all iterations is 113.\n",
        "\n"
      ],
      "metadata": {
        "id": "Nyc_NVrDjqMu"
      }
    }
  ]
}